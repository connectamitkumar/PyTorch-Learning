{
  "nbformat": 4,
  "nbformat_minor": 0,
  "metadata": {
    "colab": {
      "provenance": [],
      "gpuType": "T4"
    },
    "kernelspec": {
      "name": "python3",
      "display_name": "Python 3"
    },
    "language_info": {
      "name": "python"
    },
    "accelerator": "GPU"
  },
  "cells": [
    {
      "cell_type": "code",
      "execution_count": 50,
      "metadata": {
        "id": "3eipuVJg97ed"
      },
      "outputs": [],
      "source": [
        "# imports\n",
        "import torch"
      ]
    },
    {
      "cell_type": "markdown",
      "source": [
        "# TENSORS\n",
        "\n",
        "## At its core, PyTorch is a library for processing tensors. A tensor is a number, vector, matrix or any n-dimensional array"
      ],
      "metadata": {
        "id": "3h2y3lJP-svQ"
      }
    },
    {
      "cell_type": "code",
      "source": [
        "# creating tensors with single number\n",
        "\n",
        "t1=torch.tensor(4)\n",
        "print(t1)\n",
        "print(\"-------------------\")\n",
        "type(t1)\n",
        "print(t1.dtype)"
      ],
      "metadata": {
        "colab": {
          "base_uri": "https://localhost:8080/"
        },
        "id": "o40y_kJ2-fID",
        "outputId": "b56dacf6-01dd-405b-b167-9538d3104df4"
      },
      "execution_count": 51,
      "outputs": [
        {
          "output_type": "stream",
          "name": "stdout",
          "text": [
            "tensor(4)\n",
            "-------------------\n",
            "torch.int64\n"
          ]
        }
      ]
    },
    {
      "cell_type": "code",
      "source": [
        "# lets create more tensors\n",
        "# vector\n",
        "t1=torch.tensor([1,2,3,4])\n",
        "t1"
      ],
      "metadata": {
        "colab": {
          "base_uri": "https://localhost:8080/"
        },
        "id": "OKsS0erf_CQ4",
        "outputId": "3bb6c340-d6a4-4936-dc24-896640e36282"
      },
      "execution_count": 52,
      "outputs": [
        {
          "output_type": "execute_result",
          "data": {
            "text/plain": [
              "tensor([1, 2, 3, 4])"
            ]
          },
          "metadata": {},
          "execution_count": 52
        }
      ]
    },
    {
      "cell_type": "code",
      "source": [
        "# matrix\n",
        "t1=torch.tensor([[1,2,3],[11,22,33],[111,222,333]])\n",
        "t1\n"
      ],
      "metadata": {
        "colab": {
          "base_uri": "https://localhost:8080/"
        },
        "id": "HDOemKYAARsl",
        "outputId": "7a18cf1b-1050-455d-b14e-e3cdd6b21c0b"
      },
      "execution_count": 53,
      "outputs": [
        {
          "output_type": "execute_result",
          "data": {
            "text/plain": [
              "tensor([[  1,   2,   3],\n",
              "        [ 11,  22,  33],\n",
              "        [111, 222, 333]])"
            ]
          },
          "metadata": {},
          "execution_count": 53
        }
      ]
    },
    {
      "cell_type": "markdown",
      "source": [
        "Tensors can have any number of dimensions, and different lengths along each dimension. We can inspect the length along each dimension using the `.shape` property of a tensor."
      ],
      "metadata": {
        "id": "BFd3uxllAuvX"
      }
    },
    {
      "cell_type": "code",
      "source": [
        "t1.shape"
      ],
      "metadata": {
        "colab": {
          "base_uri": "https://localhost:8080/"
        },
        "id": "i8hVFhfvAjin",
        "outputId": "af4d92f5-fef2-4992-ff6d-e88ceedca39b"
      },
      "execution_count": 54,
      "outputs": [
        {
          "output_type": "execute_result",
          "data": {
            "text/plain": [
              "torch.Size([3, 3])"
            ]
          },
          "metadata": {},
          "execution_count": 54
        }
      ]
    },
    {
      "cell_type": "markdown",
      "source": [
        "## Tensor operations and gradients\n",
        "\n",
        "We can combine tensors with the usual arithmetic operations. Let's look an example:"
      ],
      "metadata": {
        "id": "zfM56RAaA5Q3"
      }
    },
    {
      "cell_type": "code",
      "source": [
        "x=torch.tensor(3.)\n",
        "w=torch.tensor(4.,requires_grad=True)\n",
        "b=torch.tensor(5.,requires_grad=True)\n",
        "x,w,b"
      ],
      "metadata": {
        "colab": {
          "base_uri": "https://localhost:8080/"
        },
        "id": "40Q20jQbAtV4",
        "outputId": "e90d7706-7f10-4441-f82d-5ed633eda7e2"
      },
      "execution_count": 55,
      "outputs": [
        {
          "output_type": "execute_result",
          "data": {
            "text/plain": [
              "(tensor(3.), tensor(4., requires_grad=True), tensor(5., requires_grad=True))"
            ]
          },
          "metadata": {},
          "execution_count": 55
        }
      ]
    },
    {
      "cell_type": "code",
      "source": [
        "# Arithmetic operations\n",
        "y = w * x + b # 3 * 4 + 5 = 17\n",
        "y"
      ],
      "metadata": {
        "colab": {
          "base_uri": "https://localhost:8080/"
        },
        "id": "oX3ECf17BO3b",
        "outputId": "e27bdc4d-c795-485a-c9c4-f6b349c4788c"
      },
      "execution_count": 56,
      "outputs": [
        {
          "output_type": "execute_result",
          "data": {
            "text/plain": [
              "tensor(17., grad_fn=<AddBackward0>)"
            ]
          },
          "metadata": {},
          "execution_count": 56
        }
      ]
    },
    {
      "cell_type": "markdown",
      "source": [
        "# What makes PyTorch special is that we can automatically compute the derivative of y w.r.t. the tensors that have requires_grad set to True i.e. w and b. To compute the derivatives, we can call the .backward method on our result y."
      ],
      "metadata": {
        "id": "SEEx2DTBBcdI"
      }
    },
    {
      "cell_type": "code",
      "source": [
        "# compute derivatives\n",
        "y.backward()"
      ],
      "metadata": {
        "id": "PY9MNOW0BUFK"
      },
      "execution_count": 57,
      "outputs": []
    },
    {
      "cell_type": "markdown",
      "source": [
        "The derivates of `y` w.r.t the input tensors are stored in the `.grad` property of the respective tensors."
      ],
      "metadata": {
        "id": "WupniT9zBtfl"
      }
    },
    {
      "cell_type": "code",
      "source": [
        "# Display gradients\n",
        "print('dy/dx:', x.grad)\n",
        "print('dy/dw:', w.grad)\n",
        "print('dy/db:', b.grad)"
      ],
      "metadata": {
        "colab": {
          "base_uri": "https://localhost:8080/"
        },
        "id": "T9cYp29PBpnc",
        "outputId": "527861eb-3e0e-439d-e89b-68b52dcefd10"
      },
      "execution_count": 58,
      "outputs": [
        {
          "output_type": "stream",
          "name": "stdout",
          "text": [
            "dy/dx: None\n",
            "dy/dw: tensor(3.)\n",
            "dy/db: tensor(1.)\n"
          ]
        }
      ]
    },
    {
      "cell_type": "markdown",
      "source": [
        "As expected, `dy/dw` has the same value as `x` i.e. `3`, and `dy/db` has the value `1`. Note that `x.grad` is `None`, because `x` doesn't have `requires_grad` set to `True`.\n",
        "\n",
        "The \"grad\" in `w.grad` stands for gradient, which is another term for derivative, used mainly when dealing with matrices."
      ],
      "metadata": {
        "id": "gtqWMYW4B0NL"
      }
    },
    {
      "cell_type": "markdown",
      "source": [
        "# ## Interoperability with Numpy\n",
        "\n",
        "[Numpy](http://www.numpy.org/) is a popular open source library used for mathematical and scientific computing in Python. It enables efficient operations on large multi-dimensional arrays, and has a large ecosystem of supporting libraries:\n",
        "\n",
        "* [Matplotlib](https://matplotlib.org/) for plotting and visualization\n",
        "* [OpenCV](https://opencv.org/) for image and video processing\n",
        "* [Pandas](https://pandas.pydata.org/) for file I/O and data analysis\n",
        "\n",
        "Instead of reinventing the wheel, PyTorch interoperates really well with Numpy to leverage its existing ecosystem of tools and libraries."
      ],
      "metadata": {
        "id": "4pdrCJiwB3Bw"
      }
    },
    {
      "cell_type": "code",
      "source": [
        "import numpy as np\n",
        "x=np.array([[1,2],[3,4]])\n",
        "x"
      ],
      "metadata": {
        "colab": {
          "base_uri": "https://localhost:8080/"
        },
        "id": "16jpL0fJBwfa",
        "outputId": "47233367-e0ad-4d62-8c5c-89408667ec8b"
      },
      "execution_count": 59,
      "outputs": [
        {
          "output_type": "execute_result",
          "data": {
            "text/plain": [
              "array([[1, 2],\n",
              "       [3, 4]])"
            ]
          },
          "metadata": {},
          "execution_count": 59
        }
      ]
    },
    {
      "cell_type": "code",
      "source": [
        "# We can convert a Numpy array to a PyTorch tensor using `torch.from_numpy`.\n",
        "\n",
        "y=torch.from_numpy(x)\n",
        "y"
      ],
      "metadata": {
        "colab": {
          "base_uri": "https://localhost:8080/"
        },
        "id": "262ytX6NCKY8",
        "outputId": "2f0d8769-3a1a-4ca6-8ae8-2408b0d41115"
      },
      "execution_count": 60,
      "outputs": [
        {
          "output_type": "execute_result",
          "data": {
            "text/plain": [
              "tensor([[1, 2],\n",
              "        [3, 4]])"
            ]
          },
          "metadata": {},
          "execution_count": 60
        }
      ]
    },
    {
      "cell_type": "code",
      "source": [
        "# Let's verify that the numpy array and torch tensor have similar data types.\n",
        "x.dtype, y.dtype"
      ],
      "metadata": {
        "colab": {
          "base_uri": "https://localhost:8080/"
        },
        "id": "LWpUTMkJCZya",
        "outputId": "f804b614-92ef-45b1-9c6e-b349e93196d8"
      },
      "execution_count": 61,
      "outputs": [
        {
          "output_type": "execute_result",
          "data": {
            "text/plain": [
              "(dtype('int64'), torch.int64)"
            ]
          },
          "metadata": {},
          "execution_count": 61
        }
      ]
    },
    {
      "cell_type": "markdown",
      "source": [
        "# Let's Try solving a Linear Regression example with the pytorch"
      ],
      "metadata": {
        "id": "fYYoarofC2dw"
      }
    },
    {
      "cell_type": "markdown",
      "source": [
        "in this tutorial, we'll discuss one of the foundational algorithms in machine learning: Linear regression. We'll create a model that predicts crop yields for apples and oranges (target variables) by looking at the average temperature, rainfall, and humidity (input variables or features) in a region."
      ],
      "metadata": {
        "id": "OHAJGKAFDFZb"
      }
    },
    {
      "cell_type": "markdown",
      "source": [
        "In a linear regression model, each target variable is estimated to be a weighted sum of the input variables, offset by some constant, known as a bias :\n",
        "\n",
        "- yield_apple  = w11 * temp + w12 * rainfall + w13 * humidity + b1\n",
        "\n",
        "\n",
        "- yield_orange = w21 * temp + w22 * rainfall + w23 * humidity + b2"
      ],
      "metadata": {
        "id": "AwAgxRQJDLhB"
      }
    },
    {
      "cell_type": "markdown",
      "source": [
        "Let's begin by importing the torch.nn package from PyTorch, which contains utility classes for building neural networks."
      ],
      "metadata": {
        "id": "MaGe8E2ADeDS"
      }
    },
    {
      "cell_type": "code",
      "source": [
        "import torch.nn as nn"
      ],
      "metadata": {
        "id": "rzsUv9GHCeMp"
      },
      "execution_count": 62,
      "outputs": []
    },
    {
      "cell_type": "code",
      "source": [
        "# the inputs and targets and matrices.\n",
        "\n",
        "# Input (temp, rainfall, humidity)\n",
        "inputs = np.array([[73, 67, 43],\n",
        "                   [91, 88, 64],\n",
        "                   [87, 134, 58],\n",
        "                   [102, 43, 37],\n",
        "                   [69, 96, 70],\n",
        "                   [74, 66, 43],\n",
        "                   [91, 87, 65],\n",
        "                   [88, 134, 59],\n",
        "                   [101, 44, 37],\n",
        "                   [68, 96, 71],\n",
        "                   [73, 66, 44],\n",
        "                   [92, 87, 64],\n",
        "                   [87, 135, 57],\n",
        "                   [103, 43, 36],\n",
        "                   [68, 97, 70]],\n",
        "                  dtype='float32')\n",
        "\n",
        "# Targets (apples, oranges)\n",
        "targets = np.array([[56, 70],\n",
        "                    [81, 101],\n",
        "                    [119, 133],\n",
        "                    [22, 37],\n",
        "                    [103, 119],\n",
        "                    [57, 69],\n",
        "                    [80, 102],\n",
        "                    [118, 132],\n",
        "                    [21, 38],\n",
        "                    [104, 118],\n",
        "                    [57, 69],\n",
        "                    [82, 100],\n",
        "                    [118, 134],\n",
        "                    [20, 38],\n",
        "                    [102, 120]],\n",
        "                   dtype='float32')\n",
        "\n",
        "inputs = torch.from_numpy(inputs)\n",
        "targets = torch.from_numpy(targets)"
      ],
      "metadata": {
        "id": "qEiKbT8wDlQR"
      },
      "execution_count": 63,
      "outputs": []
    },
    {
      "cell_type": "code",
      "source": [
        "inputs"
      ],
      "metadata": {
        "colab": {
          "base_uri": "https://localhost:8080/"
        },
        "id": "TcOsSpgNDydI",
        "outputId": "d1f86fd8-e7f6-4168-a452-a20ec005524f"
      },
      "execution_count": 64,
      "outputs": [
        {
          "output_type": "execute_result",
          "data": {
            "text/plain": [
              "tensor([[ 73.,  67.,  43.],\n",
              "        [ 91.,  88.,  64.],\n",
              "        [ 87., 134.,  58.],\n",
              "        [102.,  43.,  37.],\n",
              "        [ 69.,  96.,  70.],\n",
              "        [ 74.,  66.,  43.],\n",
              "        [ 91.,  87.,  65.],\n",
              "        [ 88., 134.,  59.],\n",
              "        [101.,  44.,  37.],\n",
              "        [ 68.,  96.,  71.],\n",
              "        [ 73.,  66.,  44.],\n",
              "        [ 92.,  87.,  64.],\n",
              "        [ 87., 135.,  57.],\n",
              "        [103.,  43.,  36.],\n",
              "        [ 68.,  97.,  70.]])"
            ]
          },
          "metadata": {},
          "execution_count": 64
        }
      ]
    },
    {
      "cell_type": "code",
      "source": [
        "targets"
      ],
      "metadata": {
        "colab": {
          "base_uri": "https://localhost:8080/"
        },
        "id": "_vcSGUE_D0eQ",
        "outputId": "fc5ea64b-f6a2-4a45-dea3-64918b8ba7ed"
      },
      "execution_count": 65,
      "outputs": [
        {
          "output_type": "execute_result",
          "data": {
            "text/plain": [
              "tensor([[ 56.,  70.],\n",
              "        [ 81., 101.],\n",
              "        [119., 133.],\n",
              "        [ 22.,  37.],\n",
              "        [103., 119.],\n",
              "        [ 57.,  69.],\n",
              "        [ 80., 102.],\n",
              "        [118., 132.],\n",
              "        [ 21.,  38.],\n",
              "        [104., 118.],\n",
              "        [ 57.,  69.],\n",
              "        [ 82., 100.],\n",
              "        [118., 134.],\n",
              "        [ 20.,  38.],\n",
              "        [102., 120.]])"
            ]
          },
          "metadata": {},
          "execution_count": 65
        }
      ]
    },
    {
      "cell_type": "markdown",
      "source": [
        "## We are using 15 training examples to illustrate how to work with large datasets in small batches."
      ],
      "metadata": {
        "id": "O7Y0kFv5D6sc"
      }
    },
    {
      "cell_type": "markdown",
      "source": [
        "# Dataset and DataLoader\n",
        "\n",
        "We'll create a `TensorDataset`, which allows access to rows from `inputs` and `targets` as tuples, and provides standard APIs for working with many different types of datasets in PyTorch."
      ],
      "metadata": {
        "id": "iwnhfCXSEAgb"
      }
    },
    {
      "cell_type": "code",
      "source": [
        "from torch.utils.data import TensorDataset"
      ],
      "metadata": {
        "id": "CKSKvH7-D25g"
      },
      "execution_count": 66,
      "outputs": []
    },
    {
      "cell_type": "code",
      "source": [
        "# define the dataset\n",
        "train_dataset=TensorDataset(inputs,targets)"
      ],
      "metadata": {
        "id": "1v2rCSE8EOVv"
      },
      "execution_count": 67,
      "outputs": []
    },
    {
      "cell_type": "code",
      "source": [
        "train_dataset[0:4]"
      ],
      "metadata": {
        "colab": {
          "base_uri": "https://localhost:8080/"
        },
        "id": "oIBHwa86Ecx2",
        "outputId": "c6d47fd4-fe8c-4381-a4b1-41536990b426"
      },
      "execution_count": 68,
      "outputs": [
        {
          "output_type": "execute_result",
          "data": {
            "text/plain": [
              "(tensor([[ 73.,  67.,  43.],\n",
              "         [ 91.,  88.,  64.],\n",
              "         [ 87., 134.,  58.],\n",
              "         [102.,  43.,  37.]]),\n",
              " tensor([[ 56.,  70.],\n",
              "         [ 81., 101.],\n",
              "         [119., 133.],\n",
              "         [ 22.,  37.]]))"
            ]
          },
          "metadata": {},
          "execution_count": 68
        }
      ]
    },
    {
      "cell_type": "markdown",
      "source": [
        "### The `TensorDataset` allows us to access a small section of the training data using the array indexing notation (`[0:4]` in the above code). It returns a tuple with two elements. The first element contains the input variables for the selected rows, and the second contains the targets."
      ],
      "metadata": {
        "id": "EbE9FoCIEmLZ"
      }
    },
    {
      "cell_type": "markdown",
      "source": [
        "# We'll also create a `DataLoader`, which can split the data into batches of a predefined size while training. It also provides other utilities like shuffling and random sampling of the data."
      ],
      "metadata": {
        "id": "WpqEYQYWEsA6"
      }
    },
    {
      "cell_type": "code",
      "source": [
        "from torch.utils.data import DataLoader"
      ],
      "metadata": {
        "id": "a-gXhQgAEghe"
      },
      "execution_count": 69,
      "outputs": []
    },
    {
      "cell_type": "code",
      "source": [
        " # define the dataloader\n",
        " batchsize=5\n",
        " train_dataloader=DataLoader(train_dataset,batchsize,shuffle=True)\n",
        "\n",
        ""
      ],
      "metadata": {
        "id": "dlntrwOiE3QH"
      },
      "execution_count": 70,
      "outputs": []
    },
    {
      "cell_type": "markdown",
      "source": [
        "### We'll also create a `DataLoader`, which can split the data into batches of a predefined size while training. It also provides other utilities like shuffling and random sampling of the data.\n",
        "We can use the data loader in a `for` loop. Let's look at an example."
      ],
      "metadata": {
        "id": "S75vW9wBFlcq"
      }
    },
    {
      "cell_type": "code",
      "source": [
        "for inp,tar in train_dataloader:\n",
        "  print(inp)\n",
        "  print(tar)\n",
        "  break"
      ],
      "metadata": {
        "colab": {
          "base_uri": "https://localhost:8080/"
        },
        "id": "-CohQT0uFQim",
        "outputId": "205390b2-d41d-4549-ea86-ff0da41d101b"
      },
      "execution_count": 71,
      "outputs": [
        {
          "output_type": "stream",
          "name": "stdout",
          "text": [
            "tensor([[ 68.,  96.,  71.],\n",
            "        [ 87., 134.,  58.],\n",
            "        [ 73.,  66.,  44.],\n",
            "        [ 91.,  87.,  65.],\n",
            "        [ 91.,  88.,  64.]])\n",
            "tensor([[104., 118.],\n",
            "        [119., 133.],\n",
            "        [ 57.,  69.],\n",
            "        [ 80., 102.],\n",
            "        [ 81., 101.]])\n"
          ]
        }
      ]
    },
    {
      "cell_type": "markdown",
      "source": [
        "### In each iteration, the data loader returns one batch of data with the given batch size. If `shuffle` is set to `True`, it shuffles the training data before creating batches. Shuffling helps randomize the input to the optimization algorithm, leading to a faster reduction in the loss."
      ],
      "metadata": {
        "id": "D-9a3xaKF-cv"
      }
    },
    {
      "cell_type": "markdown",
      "source": [
        "# nn.Linear"
      ],
      "metadata": {
        "id": "Z7rMNl58GFzu"
      }
    },
    {
      "cell_type": "markdown",
      "source": [
        " we can define the model using the `nn.Linear` class from PyTorch, which does it automatically."
      ],
      "metadata": {
        "id": "t04k78-iGLMH"
      }
    },
    {
      "cell_type": "code",
      "source": [
        "# define the model\n",
        "\n",
        "model=nn.Linear(3,2)\n",
        "print(model.weight)\n",
        "print(model.bias)"
      ],
      "metadata": {
        "colab": {
          "base_uri": "https://localhost:8080/"
        },
        "id": "uQTh9xuaF7C9",
        "outputId": "2d16e473-ff62-40f7-f342-1f52789970ef"
      },
      "execution_count": 72,
      "outputs": [
        {
          "output_type": "stream",
          "name": "stdout",
          "text": [
            "Parameter containing:\n",
            "tensor([[-0.3312,  0.3922, -0.4110],\n",
            "        [ 0.0022, -0.0917,  0.3024]], requires_grad=True)\n",
            "Parameter containing:\n",
            "tensor([0.3966, 0.4248], requires_grad=True)\n"
          ]
        }
      ]
    },
    {
      "cell_type": "markdown",
      "source": [
        "### PyTorch models also have a helpful `.parameters` method, which returns a list containing all the weights and bias matrices present in the model. For our linear regression model, we have one weight matrix and one bias matrix."
      ],
      "metadata": {
        "id": "Oc3YvdxvGufO"
      }
    },
    {
      "cell_type": "code",
      "source": [
        "model.parameters()"
      ],
      "metadata": {
        "colab": {
          "base_uri": "https://localhost:8080/"
        },
        "id": "NVBiMkJRGo7n",
        "outputId": "1e843970-9745-40f4-874c-0be622ce3df7"
      },
      "execution_count": 73,
      "outputs": [
        {
          "output_type": "execute_result",
          "data": {
            "text/plain": [
              "<generator object Module.parameters at 0x7b1ec636cf90>"
            ]
          },
          "metadata": {},
          "execution_count": 73
        }
      ]
    },
    {
      "cell_type": "code",
      "source": [
        "list(model.parameters())"
      ],
      "metadata": {
        "colab": {
          "base_uri": "https://localhost:8080/"
        },
        "id": "h7cdyVQxG7hu",
        "outputId": "713a1ef7-47a6-4049-961c-6a0d7494be70"
      },
      "execution_count": 74,
      "outputs": [
        {
          "output_type": "execute_result",
          "data": {
            "text/plain": [
              "[Parameter containing:\n",
              " tensor([[-0.3312,  0.3922, -0.4110],\n",
              "         [ 0.0022, -0.0917,  0.3024]], requires_grad=True),\n",
              " Parameter containing:\n",
              " tensor([0.3966, 0.4248], requires_grad=True)]"
            ]
          },
          "metadata": {},
          "execution_count": 74
        }
      ]
    },
    {
      "cell_type": "markdown",
      "source": [
        "# Generate predictions"
      ],
      "metadata": {
        "id": "gnLCfwzQHGTF"
      }
    },
    {
      "cell_type": "code",
      "source": [
        "pred=model(inputs)\n",
        "pred"
      ],
      "metadata": {
        "colab": {
          "base_uri": "https://localhost:8080/"
        },
        "id": "zSqj1cXlHCWf",
        "outputId": "f4f4d592-4efe-4454-876a-dbfc38ca1e3c"
      },
      "execution_count": 75,
      "outputs": [
        {
          "output_type": "execute_result",
          "data": {
            "text/plain": [
              "tensor([[-15.1748,   7.4416],\n",
              "        [-21.5310,  11.9051],\n",
              "        [  0.3015,   5.8634],\n",
              "        [-31.7256,   7.8911],\n",
              "        [-13.5737,  12.9382],\n",
              "        [-15.8982,   7.5355],\n",
              "        [-22.3342,  12.2992],\n",
              "        [ -0.4407,   6.1680],\n",
              "        [-31.0022,   7.7972],\n",
              "        [-13.6536,  13.2384],\n",
              "        [-15.9780,   7.8357],\n",
              "        [-22.2543,  11.9990],\n",
              "        [  1.1048,   5.4693],\n",
              "        [-31.6457,   7.5908],\n",
              "        [-12.8503,  12.8443]], grad_fn=<AddmmBackward0>)"
            ]
          },
          "metadata": {},
          "execution_count": 75
        }
      ]
    },
    {
      "cell_type": "markdown",
      "source": [
        "## Loss Function\n",
        "we can use the built-in loss function `mse_loss`.\n",
        "\n",
        "The `nn.functional` package contains many useful loss functions and several other utilities."
      ],
      "metadata": {
        "id": "PF5s2alCHSKH"
      }
    },
    {
      "cell_type": "code",
      "source": [
        "import torch.nn.functional as F"
      ],
      "metadata": {
        "id": "hdSbd0DrHPen"
      },
      "execution_count": 76,
      "outputs": []
    },
    {
      "cell_type": "code",
      "source": [
        "loss_fn=F.mse_loss\n",
        "loss=loss_fn(pred,targets)\n",
        "print(loss)"
      ],
      "metadata": {
        "colab": {
          "base_uri": "https://localhost:8080/"
        },
        "id": "NaZEs-nyHg_A",
        "outputId": "fee487e8-b01c-41fc-f491-daef5c37fc38"
      },
      "execution_count": 77,
      "outputs": [
        {
          "output_type": "stream",
          "name": "stdout",
          "text": [
            "tensor(8609.7031, grad_fn=<MseLossBackward0>)\n"
          ]
        }
      ]
    },
    {
      "cell_type": "markdown",
      "source": [
        "## Optimizer\n",
        "\n",
        "we can use the optimizer `optim.SGD`. SGD is short for \"stochastic gradient descent\". The term _stochastic_ indicates that samples are selected in random batches instead of as a single group.\n",
        "\n",
        "Note that `model.parameters()` is passed as an argument to `optim.SGD` so that the optimizer knows which matrices should be modified during the update step. Also, we can specify a learning rate that controls the amount by which the parameters are modified."
      ],
      "metadata": {
        "id": "yVQWwB3zH0B8"
      }
    },
    {
      "cell_type": "code",
      "source": [
        "# define the optimizer\n",
        "\n",
        "opt=torch.optim.SGD(model.parameters(),lr=1e-5)"
      ],
      "metadata": {
        "id": "A-1GJfoiHwxv"
      },
      "execution_count": 78,
      "outputs": []
    },
    {
      "cell_type": "markdown",
      "source": [
        "## Train the model\n",
        "\n",
        "We are now ready to train the model.\n",
        "\n",
        "1. Generate predictions\n",
        "\n",
        "2. Calculate the loss\n",
        "\n",
        "3. Compute gradients w.r.t the weights and biases\n",
        "\n",
        "4. Adjust the weights by subtracting a small quantity proportional to the gradient\n",
        "\n",
        "5. Reset the gradients to zero\n",
        "\n",
        "we'll work batches of data .Let's define a utility function `fit` that trains the model for a given number of epochs."
      ],
      "metadata": {
        "id": "bDf-glpyIU4k"
      }
    },
    {
      "cell_type": "code",
      "source": [
        "# utility function to train the model\n",
        "\n",
        "def fit(epochs,model,loss_fn,opt,train_dataloader):\n",
        "\n",
        "  #repeat for given batches of data\n",
        "  for i in range(epochs):\n",
        "\n",
        "    # train with batches of data\n",
        "    for inp,tar in train_dataloader:\n",
        "\n",
        "      # 1. generate predictions\n",
        "      pred=model(inp)\n",
        "\n",
        "      # 2. calculate loss\n",
        "      loss=loss_fn(pred,tar)\n",
        "\n",
        "      # 3. compute gradients\n",
        "      loss.backward()\n",
        "\n",
        "      # 4. update parameters using the gradeints\n",
        "      opt.step()\n",
        "\n",
        "      # 5. reset the gradients to zero\n",
        "      opt.zero_grad()\n",
        "  # print the progress\n",
        "      if (i+1) % 10 ==0:\n",
        "        print('epoch [{} / {}], loss : {: .4f}'.format(i+1,epochs,loss.item()))\n",
        "\n",
        "\n",
        "\n"
      ],
      "metadata": {
        "id": "XoHOaKNMIRba"
      },
      "execution_count": 83,
      "outputs": []
    },
    {
      "cell_type": "markdown",
      "source": [
        "Some things to note above:\n",
        "\n",
        "* We use the data loader defined earlier to get batches of data for every iteration.\n",
        "\n",
        "* updating parameters , we use `opt.step` to perform the update and `opt.zero_grad` to reset the gradients to zero.\n",
        "\n",
        "* We've also added a log statement that prints the loss from the last batch of data for every 10th epoch to track training progress. `loss.item` returns the actual value stored in the loss tensor.\n",
        "\n",
        "Let's train the model for 200 epochs."
      ],
      "metadata": {
        "id": "G5pE-IAiLFce"
      }
    },
    {
      "cell_type": "code",
      "source": [
        "fit(200, model, loss_fn, opt, train_dataloader)"
      ],
      "metadata": {
        "colab": {
          "base_uri": "https://localhost:8080/"
        },
        "id": "EFK42G_jLCkM",
        "outputId": "4ce14ace-e1b4-45b8-eccb-823d1f3917d9"
      },
      "execution_count": 85,
      "outputs": [
        {
          "output_type": "stream",
          "name": "stdout",
          "text": [
            "epoch [10 / 200], loss :  15.4165\n",
            "epoch [10 / 200], loss :  15.7699\n",
            "epoch [10 / 200], loss :  7.2747\n",
            "epoch [20 / 200], loss :  16.9982\n",
            "epoch [20 / 200], loss :  10.4981\n",
            "epoch [20 / 200], loss :  9.0331\n",
            "epoch [30 / 200], loss :  11.4775\n",
            "epoch [30 / 200], loss :  14.6703\n",
            "epoch [30 / 200], loss :  10.0676\n",
            "epoch [40 / 200], loss :  2.5477\n",
            "epoch [40 / 200], loss :  15.1558\n",
            "epoch [40 / 200], loss :  15.0295\n",
            "epoch [50 / 200], loss :  7.1220\n",
            "epoch [50 / 200], loss :  15.0359\n",
            "epoch [50 / 200], loss :  9.0779\n",
            "epoch [60 / 200], loss :  10.4192\n",
            "epoch [60 / 200], loss :  8.0591\n",
            "epoch [60 / 200], loss :  10.8952\n",
            "epoch [70 / 200], loss :  9.0303\n",
            "epoch [70 / 200], loss :  9.3491\n",
            "epoch [70 / 200], loss :  10.6968\n",
            "epoch [80 / 200], loss :  9.5827\n",
            "epoch [80 / 200], loss :  6.5626\n",
            "epoch [80 / 200], loss :  11.7162\n",
            "epoch [90 / 200], loss :  9.5701\n",
            "epoch [90 / 200], loss :  10.1149\n",
            "epoch [90 / 200], loss :  4.8923\n",
            "epoch [100 / 200], loss :  6.4080\n",
            "epoch [100 / 200], loss :  8.4248\n",
            "epoch [100 / 200], loss :  10.0100\n",
            "epoch [110 / 200], loss :  6.0722\n",
            "epoch [110 / 200], loss :  8.2955\n",
            "epoch [110 / 200], loss :  8.4801\n",
            "epoch [120 / 200], loss :  8.2680\n",
            "epoch [120 / 200], loss :  6.8324\n",
            "epoch [120 / 200], loss :  6.3830\n",
            "epoch [130 / 200], loss :  8.4210\n",
            "epoch [130 / 200], loss :  6.5503\n",
            "epoch [130 / 200], loss :  4.9360\n",
            "epoch [140 / 200], loss :  8.2058\n",
            "epoch [140 / 200], loss :  7.5569\n",
            "epoch [140 / 200], loss :  3.4591\n",
            "epoch [150 / 200], loss :  10.6964\n",
            "epoch [150 / 200], loss :  3.6058\n",
            "epoch [150 / 200], loss :  4.1113\n",
            "epoch [160 / 200], loss :  5.3482\n",
            "epoch [160 / 200], loss :  4.7536\n",
            "epoch [160 / 200], loss :  7.8010\n",
            "epoch [170 / 200], loss :  5.2026\n",
            "epoch [170 / 200], loss :  2.3549\n",
            "epoch [170 / 200], loss :  9.0350\n",
            "epoch [180 / 200], loss :  4.7766\n",
            "epoch [180 / 200], loss :  5.4487\n",
            "epoch [180 / 200], loss :  6.1237\n",
            "epoch [190 / 200], loss :  6.1386\n",
            "epoch [190 / 200], loss :  4.2249\n",
            "epoch [190 / 200], loss :  4.6269\n",
            "epoch [200 / 200], loss :  5.3787\n",
            "epoch [200 / 200], loss :  2.4111\n",
            "epoch [200 / 200], loss :  7.5966\n"
          ]
        }
      ]
    },
    {
      "cell_type": "code",
      "source": [
        "# Let's generate predictions using our model and verify that they're close to our targets.\n",
        "# Generate predictions\n",
        "preds = model(inputs)\n",
        "preds"
      ],
      "metadata": {
        "colab": {
          "base_uri": "https://localhost:8080/"
        },
        "id": "fd4BCgDzLZnX",
        "outputId": "3dcada02-c120-4583-e89e-a933858c7d2a"
      },
      "execution_count": 86,
      "outputs": [
        {
          "output_type": "execute_result",
          "data": {
            "text/plain": [
              "tensor([[ 57.3414,  70.5709],\n",
              "        [ 80.3825,  99.9811],\n",
              "        [122.0816, 134.0178],\n",
              "        [ 21.8995,  38.1067],\n",
              "        [ 98.3830, 117.3923],\n",
              "        [ 56.0535,  69.4775],\n",
              "        [ 79.9086,  99.9699],\n",
              "        [122.1923, 134.5574],\n",
              "        [ 23.1874,  39.2001],\n",
              "        [ 99.1971, 118.4746],\n",
              "        [ 56.8675,  70.5597],\n",
              "        [ 79.0946,  98.8876],\n",
              "        [122.5555, 134.0290],\n",
              "        [ 21.0855,  37.0245],\n",
              "        [ 99.6709, 118.4858]], grad_fn=<AddmmBackward0>)"
            ]
          },
          "metadata": {},
          "execution_count": 86
        }
      ]
    },
    {
      "cell_type": "code",
      "source": [
        "# Compare with targets\n",
        "targets"
      ],
      "metadata": {
        "colab": {
          "base_uri": "https://localhost:8080/"
        },
        "id": "wkhLHYGlNQZj",
        "outputId": "c9165b0c-5688-4c19-fb59-ba838e284ba2"
      },
      "execution_count": 87,
      "outputs": [
        {
          "output_type": "execute_result",
          "data": {
            "text/plain": [
              "tensor([[ 56.,  70.],\n",
              "        [ 81., 101.],\n",
              "        [119., 133.],\n",
              "        [ 22.,  37.],\n",
              "        [103., 119.],\n",
              "        [ 57.,  69.],\n",
              "        [ 80., 102.],\n",
              "        [118., 132.],\n",
              "        [ 21.,  38.],\n",
              "        [104., 118.],\n",
              "        [ 57.,  69.],\n",
              "        [ 82., 100.],\n",
              "        [118., 134.],\n",
              "        [ 20.,  38.],\n",
              "        [102., 120.]])"
            ]
          },
          "metadata": {},
          "execution_count": 87
        }
      ]
    },
    {
      "cell_type": "markdown",
      "source": [
        "Indeed, the predictions are quite close to our targets. We have a trained a reasonably good model to predict crop yields for apples and oranges by looking at the average temperature, rainfall, and humidity in a region. We can use it to make predictions of crop yields for new regions by passing a batch containing a single row of input."
      ],
      "metadata": {
        "id": "cR4J1QI9NXgK"
      }
    },
    {
      "cell_type": "code",
      "source": [
        "model(torch.tensor([[75, 63, 44.]]))"
      ],
      "metadata": {
        "colab": {
          "base_uri": "https://localhost:8080/"
        },
        "id": "IbHaIxEjNSX6",
        "outputId": "1dce5e89-a6c1-4370-8d49-377472a3be92"
      },
      "execution_count": 88,
      "outputs": [
        {
          "output_type": "execute_result",
          "data": {
            "text/plain": [
              "tensor([[53.3555, 67.5508]], grad_fn=<AddmmBackward0>)"
            ]
          },
          "metadata": {},
          "execution_count": 88
        }
      ]
    },
    {
      "cell_type": "markdown",
      "source": [
        "## The predicted yield of apples is 53.3 tons per hectare, and that of oranges is 67.5 tons per hectare."
      ],
      "metadata": {
        "id": "E_wI27O9NgzF"
      }
    },
    {
      "cell_type": "code",
      "source": [],
      "metadata": {
        "id": "XroOwvt_Nd-V"
      },
      "execution_count": null,
      "outputs": []
    }
  ]
}